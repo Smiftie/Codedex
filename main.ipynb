{
 "cells": [
  {
   "cell_type": "markdown",
   "id": "b36f38c0-7154-44ab-978b-e1f61caf2504",
   "metadata": {},
   "source": [
    "### Lottery Game ###"
   ]
  },
  {
   "cell_type": "code",
   "execution_count": null,
   "id": "e757e85b-9bd4-4e45-bf7a-2471f4e1f720",
   "metadata": {},
   "outputs": [],
   "source": [
    "import random\n",
    "import Selection_List\n",
    "from Selection_List import picks, agreement\n",
    "import Powerball_Selection\n",
    "from Powerball_Selection import powerball_selection"
   ]
  },
  {
   "cell_type": "code",
   "execution_count": null,
   "id": "80c53c2a-674a-4db0-887a-ba6b2e8c3174",
   "metadata": {},
   "outputs": [],
   "source": [
    "#importing from Selection_List\n",
    "picks()\n",
    "agreement(picks)"
   ]
  },
  {
   "cell_type": "code",
   "execution_count": null,
   "id": "4dc4328a-9a27-43ae-ba48-21f26d67e424",
   "metadata": {},
   "outputs": [],
   "source": [
    "#importing from Powerball_Numbers\n",
    "numbers = powerball_selection()"
   ]
  },
  {
   "cell_type": "code",
   "execution_count": null,
   "id": "d49d8ced-dff8-428e-9e0c-3acc32c68fb2",
   "metadata": {},
   "outputs": [],
   "source": [
    "if picks == sorted(numbers):\n",
    "    print(\"You have won the jackpot. Congratulations!\")\n",
    "else:\n",
    "    print(\"You did not win. Please try again next week.\")"
   ]
  }
 ],
 "metadata": {
  "kernelspec": {
   "display_name": "anaconda-2024.02-py310",
   "language": "python",
   "name": "conda-env-anaconda-2024.02-py310-py"
  },
  "language_info": {
   "codemirror_mode": {
    "name": "ipython",
    "version": 3
   },
   "file_extension": ".py",
   "mimetype": "text/x-python",
   "name": "python",
   "nbconvert_exporter": "python",
   "pygments_lexer": "ipython3",
   "version": "3.10.14"
  }
 },
 "nbformat": 4,
 "nbformat_minor": 5
}
